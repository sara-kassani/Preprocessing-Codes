{
 "cells": [
  {
   "cell_type": "markdown",
   "metadata": {},
   "source": [
    "# Crop one image"
   ]
  },
  {
   "cell_type": "code",
   "execution_count": 8,
   "metadata": {},
   "outputs": [],
   "source": [
    "from PIL import Image"
   ]
  },
  {
   "cell_type": "code",
   "execution_count": 9,
   "metadata": {},
   "outputs": [],
   "source": [
    "im = Image.open('data/ISIC_0000000.jpg')\n",
    "width, height = im.size   # Get dimensions"
   ]
  },
  {
   "cell_type": "code",
   "execution_count": 10,
   "metadata": {},
   "outputs": [],
   "source": [
    "# im"
   ]
  },
  {
   "cell_type": "code",
   "execution_count": 11,
   "metadata": {},
   "outputs": [
    {
     "data": {
      "text/plain": [
       "(1022, 767)"
      ]
     },
     "execution_count": 11,
     "metadata": {},
     "output_type": "execute_result"
    }
   ],
   "source": [
    "im.size"
   ]
  },
  {
   "cell_type": "code",
   "execution_count": 12,
   "metadata": {},
   "outputs": [],
   "source": [
    "left = (width - (width-50))\n",
    "top = (height - (height-50))\n",
    "right = (width-50)\n",
    "bottom = (height-50)\n",
    "\n",
    "cropped = im.crop((left, top, right, bottom))"
   ]
  },
  {
   "cell_type": "code",
   "execution_count": 13,
   "metadata": {},
   "outputs": [
    {
     "data": {
      "text/plain": [
       "(972, 1022)"
      ]
     },
     "execution_count": 13,
     "metadata": {},
     "output_type": "execute_result"
    }
   ],
   "source": [
    "right, width"
   ]
  },
  {
   "cell_type": "code",
   "execution_count": 14,
   "metadata": {},
   "outputs": [
    {
     "data": {
      "text/plain": [
       "(922, 667)"
      ]
     },
     "execution_count": 14,
     "metadata": {},
     "output_type": "execute_result"
    }
   ],
   "source": [
    "cropped.size"
   ]
  },
  {
   "cell_type": "code",
   "execution_count": 15,
   "metadata": {},
   "outputs": [],
   "source": [
    "# image2"
   ]
  },
  {
   "cell_type": "markdown",
   "metadata": {},
   "source": [
    "___"
   ]
  },
  {
   "cell_type": "markdown",
   "metadata": {},
   "source": [
    "# Crop batch images"
   ]
  },
  {
   "cell_type": "code",
   "execution_count": 26,
   "metadata": {},
   "outputs": [
    {
     "name": "stdout",
     "output_type": "stream",
     "text": [
      "************************************************************\n",
      "********************* Preprocessing *************************\n",
      "************************************************************\n",
      "Preprocessing: ISIC_0000000.jpg: 1\n",
      "Preprocessing: ISIC_0000001.jpg: 2\n",
      "Preprocessing: ISIC_0000002.jpg: 3\n",
      "Preprocessing: ISIC_0000003.jpg: 4\n",
      "Preprocessing: ISIC_0000004.jpg: 5\n",
      "Preprocessing: ISIC_0000006.jpg: 6\n",
      "Preprocessing: ISIC_0000007.jpg: 7\n"
     ]
    },
    {
     "name": "stderr",
     "output_type": "stream",
     "text": [
      "/home/sara/anaconda3/lib/python3.6/site-packages/ipykernel_launcher.py:59: DeprecationWarning: `imsave` is deprecated!\n",
      "`imsave` is deprecated in SciPy 1.0.0, and will be removed in 1.2.0.\n",
      "Use ``imageio.imwrite`` instead.\n"
     ]
    }
   ],
   "source": [
    "import numpy as np\n",
    "from scipy import ndimage, misc\n",
    "import os, glob\n",
    "import sys\n",
    "import skimage\n",
    "from skimage import feature, data, io\n",
    "from skimage.morphology import disk\n",
    "from scipy.misc import imread, imsave\n",
    "from PIL import Image\n",
    "\n",
    "\n",
    "def get_file_name_dir(rootDir, ext):\n",
    " \n",
    "    # Return file names with certain extension\n",
    "\n",
    "    return glob.glob1(rootDir, \"*.\" + ext)\n",
    "\n",
    "\n",
    "def crop_image(img):\n",
    "    width, height = img.size\n",
    "    left = (width - (width-50))\n",
    "    top = (height - (height-50))\n",
    "    right = (width-50)\n",
    "    bottom = (height-50)\n",
    "   \n",
    "    cropped = img.crop((left, top, right, bottom))\n",
    "\n",
    "    return cropped\n",
    "\n",
    "\"\"\"\n",
    "Get name images to preprocessing\n",
    "--------------------------------\n",
    "\"\"\"\n",
    "input_path = 'data-original/'\n",
    "input_extension = 'jpg'\n",
    "\n",
    "inputs_files = sorted(get_file_name_dir(input_path, input_extension))\n",
    "\n",
    "print(('**')*30)\n",
    "print('********************* Preprocessing *************************')\n",
    "print(('**')*30)\n",
    "\n",
    "\"\"\"\n",
    "Iterate over the list of images\n",
    "-------------------------------\n",
    "\"\"\"\n",
    "cont = 1\n",
    "\n",
    "for file_name in inputs_files:\n",
    "    print('Preprocessing: ' + file_name + ': ' + str(cont))\n",
    "    cont += 1\n",
    "    # Get the image\n",
    "    image = Image.open(input_path + file_name)\n",
    "    # Crop Image\n",
    "    image = crop_image(image)\n",
    "     # Save Image\n",
    "    imsave('data-cropped/' + file_name, image)"
   ]
  }
 ],
 "metadata": {
  "kernelspec": {
   "display_name": "Python 3",
   "language": "python",
   "name": "python3"
  },
  "language_info": {
   "codemirror_mode": {
    "name": "ipython",
    "version": 3
   },
   "file_extension": ".py",
   "mimetype": "text/x-python",
   "name": "python",
   "nbconvert_exporter": "python",
   "pygments_lexer": "ipython3",
   "version": "3.6.5"
  }
 },
 "nbformat": 4,
 "nbformat_minor": 2
}
