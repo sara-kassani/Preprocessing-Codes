{
 "cells": [
  {
   "cell_type": "code",
   "execution_count": 1,
   "metadata": {},
   "outputs": [],
   "source": [
    "import pandas as pd\n",
    "import os\n",
    "import pickle\n",
    "import numpy as np\n",
    "\n",
    "def create_dir(parent_path):\n",
    "    '''\n",
    "            We have three classes and base on CSV information, if the image is belongs to melanoma for example,\n",
    "            it should be moved to melanoma directory\n",
    "    '''\n",
    "    if not os.path.exists(os.path.join(parent_path, 'Homogeneous')):\n",
    "        os.makedirs(os.path.join(parent_path, 'Homogeneous'))\n",
    "\n",
    "    if not os.path.exists(os.path.join(parent_path, 'Speckled')):\n",
    "        os.makedirs(os.path.join(parent_path, 'Speckled'))\n",
    "\n",
    "    if not os.path.exists(os.path.join(parent_path, 'Nucleolar')):\n",
    "        os.makedirs(os.path.join(parent_path, 'Nucleolar'))\n",
    "\n",
    "    if not os.path.exists(os.path.join(parent_path, 'Centromere')):\n",
    "        os.makedirs(os.path.join(parent_path, 'Centromere'))\n",
    "        \n",
    "    if not os.path.exists(os.path.join(parent_path, 'Nuclear_membrane')):\n",
    "        os.makedirs(os.path.join(parent_path, 'Nuclear_membrane'))\n",
    "        \n",
    "    if not os.path.exists(os.path.join(parent_path, 'Golgi')):\n",
    "        os.makedirs(os.path.join(parent_path, 'Golgi'))\n",
    "        \n"
   ]
  },
  {
   "cell_type": "code",
   "execution_count": 2,
   "metadata": {},
   "outputs": [
    {
     "name": "stdout",
     "output_type": "stream",
     "text": [
      "  image_name  Homogeneous  Speckled  Nucleolar  Centromere  Nuclear_membrane  \\\n",
      "0      1_img          1.0       0.0        0.0         0.0               0.0   \n",
      "1      2_img          1.0       0.0        0.0         0.0               0.0   \n",
      "2      3_img          1.0       0.0        0.0         0.0               0.0   \n",
      "3      4_img          1.0       0.0        0.0         0.0               0.0   \n",
      "4      5_img          1.0       0.0        0.0         0.0               0.0   \n",
      "\n",
      "   Golgi  \n",
      "0    0.0  \n",
      "1    0.0  \n",
      "2    0.0  \n",
      "3    0.0  \n",
      "4    0.0  \n"
     ]
    }
   ],
   "source": [
    "data_df = pd.read_csv('data/example.csv')\n",
    "print(data_df.head())"
   ]
  },
  {
   "cell_type": "code",
   "execution_count": 3,
   "metadata": {},
   "outputs": [],
   "source": [
    "data_dir = 'data/cells/'"
   ]
  },
  {
   "cell_type": "code",
   "execution_count": 4,
   "metadata": {},
   "outputs": [],
   "source": [
    "create_dir('data')"
   ]
  },
  {
   "cell_type": "code",
   "execution_count": 5,
   "metadata": {},
   "outputs": [],
   "source": [
    "labels_data = np.zeros((len(data_df), 6))"
   ]
  },
  {
   "cell_type": "code",
   "execution_count": 6,
   "metadata": {},
   "outputs": [],
   "source": [
    "def move_image(type_, dataframe, directory):\n",
    "    for index, image in enumerate(dataframe['image_name']):\n",
    "        image_path = os.path.join(directory, image + '.png')\n",
    "\n",
    "        if dataframe.loc[dataframe['image_name'] == image]['Homogeneous'].all() == 1:\n",
    "            os.rename(image_path, os.path.join(\n",
    "                type_, 'Homogeneous', image + '.png'))\n",
    "            if(type_ == 'train'):\n",
    "                labels_train[index][1] = 1\n",
    "        \n",
    "        elif dataframe.loc[dataframe['image_name'] == image]['Speckled'].all() == 1:\n",
    "            os.rename(image_path, os.path.join(\n",
    "                type_, 'Speckled', image + '.png'))\n",
    "            if(type_ == 'train'):\n",
    "                labels_train[index][1] = 1 \n",
    "                \n",
    "        elif dataframe.loc[dataframe['image_name'] == image]['Nucleolar'].all() == 1:\n",
    "            os.rename(image_path, os.path.join(\n",
    "                type_, 'Nucleolar', image + '.png'))\n",
    "            if(type_ == 'train'):\n",
    "                labels_train[index][1] = 1    \n",
    "                \n",
    "        elif dataframe.loc[dataframe['image_name'] == image]['Centromere'].all() == 1:\n",
    "            os.rename(image_path, os.path.join(\n",
    "                type_, 'Centromere', image + '.png'))\n",
    "            if(type_ == 'train'):\n",
    "                labels_train[index][1] = 1 \n",
    "                \n",
    "        elif dataframe.loc[dataframe['image_name'] == image]['Nuclear_membrane'].all() == 1:\n",
    "            os.rename(image_path, os.path.join(\n",
    "                type_, 'Nuclear_membrane', image))\n",
    "            if(type_ == 'train'):\n",
    "                labels_train[index][1] = 1 \n",
    "                \n",
    "        elif dataframe.loc[dataframe['image_name'] == image]['Golgi'].all() == 1:\n",
    "            os.rename(image_path, os.path.join(\n",
    "                type_, 'Golgi', image + '.png'))\n",
    "            if(type_ == 'train'):\n",
    "                labels_train[index][1] = 1 \n"
   ]
  },
  {
   "cell_type": "code",
   "execution_count": 7,
   "metadata": {},
   "outputs": [],
   "source": [
    "move_image('data', data_df, data_dir)"
   ]
  },
  {
   "cell_type": "code",
   "execution_count": null,
   "metadata": {},
   "outputs": [],
   "source": []
  },
  {
   "cell_type": "code",
   "execution_count": null,
   "metadata": {},
   "outputs": [],
   "source": []
  }
 ],
 "metadata": {
  "kernelspec": {
   "display_name": "Python 3",
   "language": "python",
   "name": "python3"
  },
  "language_info": {
   "codemirror_mode": {
    "name": "ipython",
    "version": 3
   },
   "file_extension": ".py",
   "mimetype": "text/x-python",
   "name": "python",
   "nbconvert_exporter": "python",
   "pygments_lexer": "ipython3",
   "version": "3.6.5"
  }
 },
 "nbformat": 4,
 "nbformat_minor": 2
}
