{
 "cells": [
  {
   "cell_type": "code",
   "execution_count": 34,
   "metadata": {},
   "outputs": [],
   "source": [
    "import numpy as np\n",
    "from PIL import Image\n",
    "\n",
    "im = Image.open('image.png')\n",
    "im.show()\n",
    "data = np.array(im)\n",
    "\n",
    "r1, g1, b1 = 187,155,25 # Original value\n",
    "r2, g2, b2 = 0, 0, 0 # Value that we want to replace it with\n",
    "\n",
    "red, green, blue = data[:,:,0], data[:,:,1], data[:,:,2]\n",
    "mask = (red == r1) & (green == g1) & (blue == b1)\n",
    "data[:,:,:3][mask] = [r2, g2, b2]\n",
    "\n",
    "im = Image.fromarray(data)\n",
    "im.save('recolored-image.png')"
   ]
  }
 ],
 "metadata": {
  "kernelspec": {
   "display_name": "Python 3",
   "language": "python",
   "name": "python3"
  },
  "language_info": {
   "codemirror_mode": {
    "name": "ipython",
    "version": 3
   },
   "file_extension": ".py",
   "mimetype": "text/x-python",
   "name": "python",
   "nbconvert_exporter": "python",
   "pygments_lexer": "ipython3",
   "version": "3.6.5"
  }
 },
 "nbformat": 4,
 "nbformat_minor": 2
}
