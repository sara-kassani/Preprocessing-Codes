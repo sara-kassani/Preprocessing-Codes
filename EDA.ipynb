{
 "cells": [
  {
   "cell_type": "code",
   "execution_count": 1,
   "metadata": {},
   "outputs": [],
   "source": [
    "import warnings\n",
    "warnings.filterwarnings('always')\n",
    "warnings.filterwarnings('ignore')"
   ]
  },
  {
   "cell_type": "code",
   "execution_count": 2,
   "metadata": {},
   "outputs": [
    {
     "name": "stderr",
     "output_type": "stream",
     "text": [
      "Using TensorFlow backend.\n"
     ]
    }
   ],
   "source": [
    "import os\n",
    "import pandas as pd\n",
    "\n",
    "import numpy as np\n",
    "from glob import glob\n",
    "import cv2\n",
    "import skimage\n",
    "from skimage.transform import resize\n",
    "\n",
    "from keras import layers\n",
    "from keras import models\n",
    "from keras import optimizers\n",
    "from keras.models import load_model\n",
    "import keras.callbacks as kcall\n",
    "from keras.optimizers import Adam\n",
    "from keras.models import Model\n",
    "from keras.models import Sequential\n",
    "from keras.layers import Flatten, Dense, Activation, Dropout, Conv2D, MaxPooling2D, BatchNormalization\n",
    "from keras.applications.xception import Xception, preprocess_input\n",
    "from keras.preprocessing.image import ImageDataGenerator\n",
    "from keras.callbacks import ModelCheckpoint\n",
    "import matplotlib.pyplot as plt\n",
    "\n",
    "%matplotlib inline"
   ]
  },
  {
   "cell_type": "code",
   "execution_count": 3,
   "metadata": {},
   "outputs": [],
   "source": [
    "train_dir = 'data/train'\n",
    "validation_dir = 'data/validation'"
   ]
  },
  {
   "cell_type": "code",
   "execution_count": null,
   "metadata": {},
   "outputs": [],
   "source": [
    "# for folder in folders:\n",
    "#     contents = os.listdir(os.path.join(path,folder))\n",
    "#     for i in contents:\n",
    "#         if i.endswith('.jpg'):\n",
    "#             targets.append(i)\n",
    "    \n",
    "# print(folder, total, (len(contents)/total)*100)"
   ]
  },
  {
   "cell_type": "markdown",
   "metadata": {},
   "source": [
    "# Percentages of files after data augmuntation of validation data"
   ]
  },
  {
   "cell_type": "code",
   "execution_count": 4,
   "metadata": {},
   "outputs": [
    {
     "name": "stdout",
     "output_type": "stream",
     "text": [
      "MEL 1664\n",
      "DF 1632\n",
      "BKL 1479\n",
      "BCC 1692\n",
      "VASC 1484\n",
      "AKIEC 1552\n",
      "NV 1730\n",
      "Total number of files = 11233\n"
     ]
    }
   ],
   "source": [
    "import os\n",
    "path = 'data/validation'\n",
    "folders = ([name for name in os.listdir(path)])\n",
    "targets = []\n",
    "for folder in folders:\n",
    "    contents = os.listdir(os.path.join(path,folder))\n",
    "    for i in contents:\n",
    "        if i.endswith('.jpg'):\n",
    "            targets.append(i)\n",
    "    \n",
    "    print(folder, len(contents))\n",
    "\n",
    "print (\"Total number of files = \" + str(len(targets)))\n",
    "total_validation = len(targets)\n"
   ]
  },
  {
   "cell_type": "code",
   "execution_count": 5,
   "metadata": {},
   "outputs": [
    {
     "name": "stdout",
     "output_type": "stream",
     "text": [
      "MEL Number of files in this class: 1664 total of files: 11233 percentages: 14.813495949434701\n",
      "DF Number of files in this class: 1632 total of files: 11233 percentages: 14.528621027330187\n",
      "BKL Number of files in this class: 1479 total of files: 11233 percentages: 13.166562806017984\n",
      "BCC Number of files in this class: 1692 total of files: 11233 percentages: 15.062761506276152\n",
      "VASC Number of files in this class: 1484 total of files: 11233 percentages: 13.211074512596813\n",
      "AKIEC Number of files in this class: 1552 total of files: 11233 percentages: 13.816433722068904\n",
      "NV Number of files in this class: 1730 total of files: 11233 percentages: 15.40105047627526\n"
     ]
    }
   ],
   "source": [
    "for folder in folders:\n",
    "    contents = os.listdir(os.path.join(path,folder))\n",
    "    print(folder, \"Number of files in this class:\", len(contents), \"total of files:\", total_validation, \"percentages:\",(len(contents)/total_validation)*100)"
   ]
  },
  {
   "cell_type": "markdown",
   "metadata": {},
   "source": [
    "# Percentages of files after data augmuntation of training data"
   ]
  },
  {
   "cell_type": "code",
   "execution_count": 6,
   "metadata": {},
   "outputs": [
    {
     "name": "stdout",
     "output_type": "stream",
     "text": [
      "MEL 3308\n",
      "DF 4152\n",
      "BKL 3275\n",
      "BCC 4773\n",
      "VASC 3488\n",
      "AKIEC 3856\n",
      "NV 4975\n",
      "Total number of files = 27827\n"
     ]
    }
   ],
   "source": [
    "import os\n",
    "path = train_dir\n",
    "folders = ([name for name in os.listdir(path)])\n",
    "targets = []\n",
    "for folder in folders:\n",
    "    contents = os.listdir(os.path.join(path,folder))\n",
    "    for i in contents:\n",
    "        if i.endswith('.jpg'):\n",
    "            targets.append(i)\n",
    "    \n",
    "    print(folder, len(contents))\n",
    "\n",
    "print (\"Total number of files = \" + str(len(targets)))\n",
    "total_train = len(targets)"
   ]
  },
  {
   "cell_type": "code",
   "execution_count": 7,
   "metadata": {},
   "outputs": [
    {
     "name": "stdout",
     "output_type": "stream",
     "text": [
      "MEL Number of files in this class: 3308 total of files: 27827 percentages: 11.88773493369749\n",
      "DF Number of files in this class: 4152 total of files: 27827 percentages: 14.920760412548963\n",
      "BKL Number of files in this class: 3275 total of files: 27827 percentages: 11.769145074927229\n",
      "BCC Number of files in this class: 4773 total of files: 27827 percentages: 17.152405936680204\n",
      "VASC Number of files in this class: 3488 total of files: 27827 percentages: 12.534588708807991\n",
      "AKIEC Number of files in this class: 3856 total of files: 27827 percentages: 13.857045315700578\n",
      "NV Number of files in this class: 4975 total of files: 27827 percentages: 17.878319617637548\n"
     ]
    }
   ],
   "source": [
    "for folder in folders:\n",
    "    contents = os.listdir(os.path.join(path,folder))\n",
    "    print(folder, \"Number of files in this class:\", len(contents), \"total of files:\", total_train, \"percentages:\",(len(contents)/total_train)*100)"
   ]
  },
  {
   "cell_type": "markdown",
   "metadata": {},
   "source": [
    "# Percentages of files before data augmuntation of training data"
   ]
  },
  {
   "cell_type": "code",
   "execution_count": 8,
   "metadata": {},
   "outputs": [],
   "source": [
    "train_without_dir = 'data-without-aug/train'"
   ]
  },
  {
   "cell_type": "code",
   "execution_count": 9,
   "metadata": {},
   "outputs": [
    {
     "name": "stdout",
     "output_type": "stream",
     "text": [
      "MEL 801\n",
      "DF 85\n",
      "BKL 815\n",
      "BCC 247\n",
      "VASC 109\n",
      "AKIEC 253\n",
      "NV 4975\n",
      "Total number of files = 7285\n"
     ]
    }
   ],
   "source": [
    "import os\n",
    "path = train_without_dir\n",
    "folders = ([name for name in os.listdir(path)])\n",
    "targets = []\n",
    "for folder in folders:\n",
    "    contents = os.listdir(os.path.join(path,folder))\n",
    "    for i in contents:\n",
    "        if i.endswith('.jpg'):\n",
    "            targets.append(i)\n",
    "    \n",
    "    print(folder, len(contents))\n",
    "\n",
    "print (\"Total number of files = \" + str(len(targets)))\n",
    "total_train_without = len(targets)"
   ]
  },
  {
   "cell_type": "code",
   "execution_count": 10,
   "metadata": {},
   "outputs": [
    {
     "name": "stdout",
     "output_type": "stream",
     "text": [
      "MEL Number of files in this class: 801 total of files: 7285 percentages: 10.995195607412493\n",
      "DF Number of files in this class: 85 total of files: 7285 percentages: 1.1667810569663692\n",
      "BKL Number of files in this class: 815 total of files: 7285 percentages: 11.187371310912834\n",
      "BCC Number of files in this class: 247 total of files: 7285 percentages: 3.390528483184626\n",
      "VASC Number of files in this class: 109 total of files: 7285 percentages: 1.4962251201098147\n",
      "AKIEC Number of files in this class: 253 total of files: 7285 percentages: 3.472889498970487\n",
      "NV Number of files in this class: 4975 total of files: 7285 percentages: 68.29100892244338\n"
     ]
    }
   ],
   "source": [
    "for folder in folders:\n",
    "    contents = os.listdir(os.path.join(path,folder))\n",
    "    print(folder, \"Number of files in this class:\", len(contents), \"total of files:\", total_train_without, \"percentages:\",(len(contents)/total_train_without)*100)"
   ]
  },
  {
   "cell_type": "markdown",
   "metadata": {},
   "source": [
    "# Percentages of files after data augmuntation of validation data"
   ]
  },
  {
   "cell_type": "code",
   "execution_count": 11,
   "metadata": {},
   "outputs": [],
   "source": [
    "validation_without_dir = 'data-without-aug/validation'"
   ]
  },
  {
   "cell_type": "code",
   "execution_count": 12,
   "metadata": {},
   "outputs": [
    {
     "name": "stdout",
     "output_type": "stream",
     "text": [
      "MEL 312\n",
      "DF 30\n",
      "BKL 284\n",
      "BCC 139\n",
      "VASC 33\n",
      "AKIEC 74\n",
      "NV 1730\n",
      "Total number of files = 2602\n"
     ]
    }
   ],
   "source": [
    "import os\n",
    "path = validation_without_dir\n",
    "folders = ([name for name in os.listdir(path)])\n",
    "targets = []\n",
    "for folder in folders:\n",
    "    contents = os.listdir(os.path.join(path,folder))\n",
    "    for i in contents:\n",
    "        if i.endswith('.jpg'):\n",
    "            targets.append(i)\n",
    "    \n",
    "    print(folder, len(contents))\n",
    "\n",
    "print (\"Total number of files = \" + str(len(targets)))\n",
    "total_validation_without = len(targets)"
   ]
  },
  {
   "cell_type": "code",
   "execution_count": 13,
   "metadata": {},
   "outputs": [
    {
     "name": "stdout",
     "output_type": "stream",
     "text": [
      "MEL Number of files in this class: 312 total of files: 2602 percentages: 11.990776325903152\n",
      "DF Number of files in this class: 30 total of files: 2602 percentages: 1.1529592621060722\n",
      "BKL Number of files in this class: 284 total of files: 2602 percentages: 10.91468101460415\n",
      "BCC Number of files in this class: 139 total of files: 2602 percentages: 5.342044581091468\n",
      "VASC Number of files in this class: 33 total of files: 2602 percentages: 1.2682551883166795\n",
      "AKIEC Number of files in this class: 74 total of files: 2602 percentages: 2.8439661798616447\n",
      "NV Number of files in this class: 1730 total of files: 2602 percentages: 66.48731744811684\n"
     ]
    }
   ],
   "source": [
    "for folder in folders:\n",
    "    contents = os.listdir(os.path.join(path,folder))\n",
    "    print(folder, \"Number of files in this class:\", len(contents), \"total of files:\", total_validation_without, \"percentages:\",(len(contents)/total_validation_without)*100)"
   ]
  },
  {
   "cell_type": "code",
   "execution_count": null,
   "metadata": {},
   "outputs": [],
   "source": []
  }
 ],
 "metadata": {
  "kernelspec": {
   "display_name": "Python 3",
   "language": "python",
   "name": "python3"
  },
  "language_info": {
   "codemirror_mode": {
    "name": "ipython",
    "version": 3
   },
   "file_extension": ".py",
   "mimetype": "text/x-python",
   "name": "python",
   "nbconvert_exporter": "python",
   "pygments_lexer": "ipython3",
   "version": "3.6.5"
  }
 },
 "nbformat": 4,
 "nbformat_minor": 2
}
