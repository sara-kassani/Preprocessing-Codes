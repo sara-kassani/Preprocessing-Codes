{
 "cells": [
  {
   "cell_type": "code",
   "execution_count": 1,
   "metadata": {},
   "outputs": [],
   "source": [
    "import warnings\n",
    "warnings.filterwarnings('always')\n",
    "warnings.filterwarnings('ignore')"
   ]
  },
  {
   "cell_type": "code",
   "execution_count": 2,
   "metadata": {},
   "outputs": [],
   "source": [
    "import pandas as pd\n",
    "import os\n",
    "import pickle\n",
    "import numpy as np\n",
    "\n",
    "def create_dir(parent_path):\n",
    "    if not os.path.exists(os.path.join(parent_path, 'MEL')):\n",
    "        os.makedirs(os.path.join(parent_path, 'MEL'))\n",
    "\n",
    "    if not os.path.exists(os.path.join(parent_path, 'NV')):\n",
    "        os.makedirs(os.path.join(parent_path, 'NV'))\n",
    "\n",
    "    if not os.path.exists(os.path.join(parent_path, 'BCC')):\n",
    "        os.makedirs(os.path.join(parent_path, 'BCC'))\n",
    "        \n",
    "    if not os.path.exists(os.path.join(parent_path, 'AK')):\n",
    "        os.makedirs(os.path.join(parent_path, 'AK'))\n",
    "        \n",
    "    if not os.path.exists(os.path.join(parent_path, 'BKL')):\n",
    "        os.makedirs(os.path.join(parent_path, 'BKL'))\n",
    "        \n",
    "    if not os.path.exists(os.path.join(parent_path, 'DF')):\n",
    "        os.makedirs(os.path.join(parent_path, 'DF'))\n",
    "        \n",
    "    if not os.path.exists(os.path.join(parent_path, 'VASC')):\n",
    "        os.makedirs(os.path.join(parent_path, 'VASC'))\n",
    "        \n",
    "    if not os.path.exists(os.path.join(parent_path, 'SCC')):\n",
    "        os.makedirs(os.path.join(parent_path, 'SCC'))\n",
    "        \n",
    "    if not os.path.exists(os.path.join(parent_path, 'UNK')):\n",
    "        os.makedirs(os.path.join(parent_path, 'UNK'))    \n",
    "        \n",
    "data_df = pd.read_csv('ISIC_2019_Training_GroundTruth.csv')"
   ]
  },
  {
   "cell_type": "code",
   "execution_count": 3,
   "metadata": {},
   "outputs": [
    {
     "name": "stdout",
     "output_type": "stream",
     "text": [
      "          image  MEL   NV  BCC   AK  BKL   DF  VASC  SCC  UNK\n",
      "0  ISIC_0000000  0.0  1.0  0.0  0.0  0.0  0.0   0.0  0.0  0.0\n",
      "1  ISIC_0000001  0.0  1.0  0.0  0.0  0.0  0.0   0.0  0.0  0.0\n",
      "2  ISIC_0000002  1.0  0.0  0.0  0.0  0.0  0.0   0.0  0.0  0.0\n",
      "3  ISIC_0000003  0.0  1.0  0.0  0.0  0.0  0.0   0.0  0.0  0.0\n",
      "4  ISIC_0000004  1.0  0.0  0.0  0.0  0.0  0.0   0.0  0.0  0.0\n"
     ]
    }
   ],
   "source": [
    "print(data_df.head())"
   ]
  },
  {
   "cell_type": "code",
   "execution_count": 4,
   "metadata": {},
   "outputs": [],
   "source": [
    "data_dir = 'ISIC_2019_Training_Input/'"
   ]
  },
  {
   "cell_type": "code",
   "execution_count": 5,
   "metadata": {},
   "outputs": [],
   "source": [
    "create_dir('data')"
   ]
  },
  {
   "cell_type": "code",
   "execution_count": 7,
   "metadata": {},
   "outputs": [],
   "source": [
    "labels_data = np.zeros((len(data_df), 9))"
   ]
  },
  {
   "cell_type": "code",
   "execution_count": 8,
   "metadata": {},
   "outputs": [],
   "source": [
    "def move_image(type_, dataframe, directory):\n",
    "\n",
    "    for index, image in enumerate(dataframe['image']):\n",
    "        image_path = os.path.join(directory, image + '.jpg')\n",
    "\n",
    "        if dataframe.loc[dataframe['image'] == image]['MEL'].all() == 1:\n",
    "            os.rename(image_path, os.path.join(\n",
    "                type_, 'MEL', image + '.jpg'))\n",
    "            if(type_ == 'train'):\n",
    "                labels_train[index][0] = 1\n",
    "\n",
    "        elif dataframe.loc[dataframe['image'] == image]['NV'].all() == 1:\n",
    "            os.rename(image_path, os.path.join(\n",
    "                type_, 'NV', image + '.jpg'))\n",
    "            if(type_ == 'train'):\n",
    "                labels_train[index][1] = 1\n",
    "\n",
    "        elif dataframe.loc[dataframe['image'] == image]['BCC'].all() == 1:\n",
    "            os.rename(image_path, os.path.join(\n",
    "                type_, 'BCC', image + '.jpg'))\n",
    "            if(type_ == 'train'):\n",
    "                labels_train[index][1] = 1\n",
    "                \n",
    "        elif dataframe.loc[dataframe['image'] == image]['AK'].all() == 1:\n",
    "            os.rename(image_path, os.path.join(\n",
    "                type_, 'AK', image + '.jpg'))\n",
    "            if(type_ == 'train'):\n",
    "                labels_train[index][1] = 1\n",
    "                \n",
    "        elif dataframe.loc[dataframe['image'] == image]['BKL'].all() == 1:\n",
    "            os.rename(image_path, os.path.join(\n",
    "                type_, 'BKL', image + '.jpg'))\n",
    "            if(type_ == 'train'):\n",
    "                labels_train[index][1] = 1    \n",
    "\n",
    "        elif dataframe.loc[dataframe['image'] == image]['DF'].all() == 1:\n",
    "            os.rename(image_path, os.path.join(\n",
    "                type_, 'DF', image + '.jpg'))\n",
    "            if(type_ == 'train'):\n",
    "                labels_train[index][1] = 1    \n",
    "                \n",
    "        elif dataframe.loc[dataframe['image'] == image]['VASC'].all() == 1:\n",
    "            os.rename(image_path, os.path.join(\n",
    "                type_, 'VASC', image + '.jpg'))\n",
    "            if(type_ == 'train'):\n",
    "                labels_train[index][1] = 1    \n",
    "\n",
    "        elif dataframe.loc[dataframe['image'] == image]['SCC'].all() == 1:\n",
    "            os.rename(image_path, os.path.join(\n",
    "                type_, 'SCC', image + '.jpg'))\n",
    "            if(type_ == 'train'):\n",
    "                labels_train[index][1] = 1                    \n",
    "                \n",
    "        else:\n",
    "            os.rename(image_path, './' + type_ + '/UNK/' + image + '.jpg')\n",
    "            if(type_ == 'train'):\n",
    "                labels_train[index][2] = 1\n"
   ]
  },
  {
   "cell_type": "code",
   "execution_count": 11,
   "metadata": {},
   "outputs": [],
   "source": [
    "move_image('data', data_df, data_dir)"
   ]
  },
  {
   "cell_type": "code",
   "execution_count": null,
   "metadata": {},
   "outputs": [],
   "source": []
  }
 ],
 "metadata": {
  "kernelspec": {
   "display_name": "Python 3",
   "language": "python",
   "name": "python3"
  },
  "language_info": {
   "codemirror_mode": {
    "name": "ipython",
    "version": 3
   },
   "file_extension": ".py",
   "mimetype": "text/x-python",
   "name": "python",
   "nbconvert_exporter": "python",
   "pygments_lexer": "ipython3",
   "version": "3.5.2"
  }
 },
 "nbformat": 4,
 "nbformat_minor": 2
}
