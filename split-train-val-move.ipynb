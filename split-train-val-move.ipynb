{
 "cells": [
  {
   "cell_type": "code",
   "execution_count": 10,
   "metadata": {},
   "outputs": [],
   "source": [
    "from keras.preprocessing.image import ImageDataGenerator\n",
    "import glob\n",
    "import math\n",
    "import numpy as np\n",
    "import os\n",
    "import shutil\n",
    "import skimage.io as io\n",
    "import skimage.transform as trans"
   ]
  },
  {
   "cell_type": "code",
   "execution_count": 15,
   "metadata": {},
   "outputs": [],
   "source": [
    "def split_train_val(base_dir, train_img, train_mask, val_img, val_mask):\n",
    "    \"\"\"Randomly split training data sets into\n",
    "    training set (95%) and validation set (5%)\n",
    "    Args\n",
    "    ----\n",
    "    base_dir : base directory of all folders\n",
    "    train_img : path to the images folder in training set\n",
    "    train_mask : path to the mask folder in training set\n",
    "    val_img : path to the images folder in validation set\n",
    "    val_mask : path to the mask folder in validation set\n",
    "    Returns\n",
    "    -------\n",
    "    tra_num : number of images in training folder\n",
    "    val_num : number of images in validation folder\n",
    "    \"\"\"\n",
    "    sourceN = base_dir + train_img\n",
    "    destN = base_dir + val_img\n",
    "    sourceP = base_dir + train_mask\n",
    "    destP = base_dir + val_mask\n",
    "    filesN = os.listdir(sourceN)\n",
    "\n",
    "    for f in filesN:\n",
    "        if np.random.rand(1) < 0.24:\n",
    "            shutil.move(sourceN + '/' + f, destN + '/' + f)\n",
    "            shutil.move(sourceP + '/' + f, destP + '/' + f)\n",
    "    print(len(os.listdir(sourceN)))\n",
    "    print(len(os.listdir(sourceP)))\n",
    "    print(len(os.listdir(destN)))\n",
    "    print(len(os.listdir(destP)))\n",
    "    tra_num = len(os.listdir(sourceN))\n",
    "    val_num = len(os.listdir(destN))\n",
    "    return tra_num, val_num\n",
    "\n"
   ]
  },
  {
   "cell_type": "code",
   "execution_count": 16,
   "metadata": {},
   "outputs": [],
   "source": [
    "base_dir = 'data' \n",
    "train_img = '/training/images'\n",
    "train_mask = '/training/masks'\n",
    "val_img = '/validation/images'\n",
    "val_mask = '/validation/masks'"
   ]
  },
  {
   "cell_type": "code",
   "execution_count": 17,
   "metadata": {},
   "outputs": [
    {
     "name": "stdout",
     "output_type": "stream",
     "text": [
      "1264\n",
      "1264\n",
      "375\n",
      "375\n"
     ]
    },
    {
     "data": {
      "text/plain": [
       "(1264, 375)"
      ]
     },
     "execution_count": 17,
     "metadata": {},
     "output_type": "execute_result"
    }
   ],
   "source": [
    "split_train_val(base_dir, train_img, train_mask, val_img, val_mask)"
   ]
  },
  {
   "cell_type": "code",
   "execution_count": null,
   "metadata": {},
   "outputs": [],
   "source": []
  }
 ],
 "metadata": {
  "kernelspec": {
   "display_name": "Python 3",
   "language": "python",
   "name": "python3"
  },
  "language_info": {
   "codemirror_mode": {
    "name": "ipython",
    "version": 3
   },
   "file_extension": ".py",
   "mimetype": "text/x-python",
   "name": "python",
   "nbconvert_exporter": "python",
   "pygments_lexer": "ipython3",
   "version": "3.6.5"
  }
 },
 "nbformat": 4,
 "nbformat_minor": 2
}
