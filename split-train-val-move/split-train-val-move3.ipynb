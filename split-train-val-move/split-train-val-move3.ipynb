{
 "cells": [
  {
   "cell_type": "code",
   "execution_count": 1,
   "metadata": {},
   "outputs": [],
   "source": [
    "import warnings\n",
    "warnings.filterwarnings('always')\n",
    "warnings.filterwarnings('ignore')"
   ]
  },
  {
   "cell_type": "code",
   "execution_count": 2,
   "metadata": {},
   "outputs": [],
   "source": [
    "import os, shutil, glob, random\n",
    "from pathlib import Path"
   ]
  },
  {
   "cell_type": "code",
   "execution_count": 7,
   "metadata": {},
   "outputs": [],
   "source": [
    "def split_train_valid_data(train_dir, validation_dir, split_ratio = 0.2):\n",
    "    img_filenames = glob.glob(train_dir + \"/*\")\n",
    "    random.shuffle(img_filenames)\n",
    "    split = round(len(img_filenames) * split_ratio)\n",
    "    \n",
    "    for img in img_filenames[:split]:\n",
    "        shutil.move(img, validation_dir)\n",
    "#     for img in img_filenames[split:]:\n",
    "#         shutil.move(img, )\n",
    "    \n",
    "    print(len(os.listdir(train_dir)))\n",
    "    print(len(os.listdir(validation_dir)))"
   ]
  },
  {
   "cell_type": "code",
   "execution_count": 14,
   "metadata": {},
   "outputs": [
    {
     "name": "stdout",
     "output_type": "stream",
     "text": [
      "80\n",
      "20\n"
     ]
    }
   ],
   "source": [
    "train_dir = \"data/train/Normal/\"\n",
    "validation_dir = \"data/validation/Normal/\"\n",
    "\n",
    "split_train_valid_data(train_dir, validation_dir, split_ratio= 0.2)"
   ]
  },
  {
   "cell_type": "code",
   "execution_count": 15,
   "metadata": {},
   "outputs": [
    {
     "name": "stdout",
     "output_type": "stream",
     "text": [
      "72\n",
      "8\n"
     ]
    }
   ],
   "source": [
    "train_dir = \"data/train/Normal/\"\n",
    "test_dir = \"data/test/Normal/\"\n",
    "\n",
    "split_train_valid_data(train_dir, test_dir, split_ratio= 0.1)"
   ]
  },
  {
   "cell_type": "code",
   "execution_count": null,
   "metadata": {},
   "outputs": [],
   "source": []
  }
 ],
 "metadata": {
  "kernelspec": {
   "display_name": "Python 3",
   "language": "python",
   "name": "python3"
  },
  "language_info": {
   "codemirror_mode": {
    "name": "ipython",
    "version": 3
   },
   "file_extension": ".py",
   "mimetype": "text/x-python",
   "name": "python",
   "nbconvert_exporter": "python",
   "pygments_lexer": "ipython3",
   "version": "3.6.5"
  }
 },
 "nbformat": 4,
 "nbformat_minor": 2
}
