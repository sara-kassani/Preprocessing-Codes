{
 "cells": [
  {
   "cell_type": "code",
   "execution_count": 23,
   "metadata": {},
   "outputs": [],
   "source": [
    "import os\n",
    "folder = 'data/training/images'\n",
    "\n",
    "import os\n",
    "pathiter = (os.path.join(root, filename)\n",
    "    for root, _, filenames in os.walk(folder)\n",
    "    for filename in filenames\n",
    ")\n",
    "for path in pathiter:\n",
    "    newname =  path.replace('_img.png', '.png')\n",
    "    if newname != path:\n",
    "        os.rename(path,newname)"
   ]
  },
  {
   "cell_type": "code",
   "execution_count": 25,
   "metadata": {},
   "outputs": [],
   "source": [
    "import os\n",
    "folder = 'data/training/masks'\n",
    "\n",
    "import os\n",
    "pathiter = (os.path.join(root, filename)\n",
    "    for root, _, filenames in os.walk(folder)\n",
    "    for filename in filenames\n",
    ")\n",
    "for path in pathiter:\n",
    "    newname =  path.replace('.pngg', '.png')\n",
    "    if newname != path:\n",
    "        os.rename(path,newname)"
   ]
  },
  {
   "cell_type": "code",
   "execution_count": null,
   "metadata": {},
   "outputs": [],
   "source": []
  },
  {
   "cell_type": "code",
   "execution_count": null,
   "metadata": {},
   "outputs": [],
   "source": []
  }
 ],
 "metadata": {
  "kernelspec": {
   "display_name": "Python 3",
   "language": "python",
   "name": "python3"
  },
  "language_info": {
   "codemirror_mode": {
    "name": "ipython",
    "version": 3
   },
   "file_extension": ".py",
   "mimetype": "text/x-python",
   "name": "python",
   "nbconvert_exporter": "python",
   "pygments_lexer": "ipython3",
   "version": "3.6.5"
  }
 },
 "nbformat": 4,
 "nbformat_minor": 2
}
