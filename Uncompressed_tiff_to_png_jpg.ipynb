{
 "cells": [
  {
   "cell_type": "code",
   "execution_count": null,
   "metadata": {},
   "outputs": [],
   "source": [
    "import warnings\n",
    "warnings.filterwarnings('always')\n",
    "warnings.filterwarnings('ignore')"
   ]
  },
  {
   "cell_type": "code",
   "execution_count": null,
   "metadata": {},
   "outputs": [],
   "source": [
    "import os\n",
    "\n",
    "from libtiff import TIFF\n",
    "from scipy import misc\n",
    "import os\n",
    "from PIL import Image\n",
    "import numpy as np\n",
    "\n",
    "original_path = 'data/CVC-ClinicDB/masks/'\n",
    "\n",
    "saved_path = 'data/CVC-ClinicDB/masks/'\n",
    "\n",
    "files = os.listdir(original_path)\n",
    "\n",
    "for file in files:\n",
    "    if file.endswith('tif'):\n",
    "        tif = TIFF.open(original_path+file,mode = 'r')\n",
    "        im = tif.read_image()\n",
    "        new_path = saved_path + file[:-3] + 'png'\n",
    "        misc.imsave(new_path,im)\n",
    "print('successfully saved')"
   ]
  },
  {
   "cell_type": "code",
   "execution_count": null,
   "metadata": {},
   "outputs": [],
   "source": []
  },
  {
   "cell_type": "code",
   "execution_count": null,
   "metadata": {},
   "outputs": [],
   "source": []
  }
 ],
 "metadata": {
  "kernelspec": {
   "display_name": "Python 3",
   "language": "python",
   "name": "python3"
  },
  "language_info": {
   "codemirror_mode": {
    "name": "ipython",
    "version": 3
   },
   "file_extension": ".py",
   "mimetype": "text/x-python",
   "name": "python",
   "nbconvert_exporter": "python",
   "pygments_lexer": "ipython3",
   "version": "3.7.3"
  }
 },
 "nbformat": 4,
 "nbformat_minor": 2
}
