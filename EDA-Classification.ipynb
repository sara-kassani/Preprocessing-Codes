{
 "cells": [
  {
   "cell_type": "code",
   "execution_count": 1,
   "metadata": {
    "collapsed": true
   },
   "outputs": [],
   "source": [
    "import warnings\n",
    "warnings.filterwarnings('always')\n",
    "warnings.filterwarnings('ignore')"
   ]
  },
  {
   "cell_type": "code",
   "execution_count": null,
   "metadata": {
    "collapsed": true
   },
   "outputs": [],
   "source": [
    "import seaborn as sns"
   ]
  },
  {
   "cell_type": "code",
   "execution_count": 26,
   "metadata": {},
   "outputs": [],
   "source": [
    "import os\n",
    "import numpy as np\n",
    "import pandas as pd\n",
    "import seaborn as sns\n",
    "import matplotlib.pyplot as plt\n",
    "%matplotlib inline"
   ]
  },
  {
   "cell_type": "code",
   "execution_count": 19,
   "metadata": {},
   "outputs": [
    {
     "name": "stdout",
     "output_type": "stream",
     "text": [
      "Types of flowers found:  5\n",
      "Categories of flowers:  ['daisy', 'dandelion', 'rose', 'sunflower', 'tulip']\n"
     ]
    }
   ],
   "source": [
    "flowers_path = 'flowers'\n",
    "flower_types = os.listdir(flowers_path)\n",
    "print(\"Types of flowers found: \", len(flower_types))\n",
    "print(\"Categories of flowers: \", flower_types)"
   ]
  },
  {
   "cell_type": "code",
   "execution_count": 20,
   "metadata": {},
   "outputs": [],
   "source": [
    "flowers = []\n",
    "\n",
    "for species in flower_types:\n",
    "    # Get all the file names\n",
    "    all_flowers = os.listdir(flowers_path + '/' + species)\n",
    "    # Add them to the list\n",
    "    for flower in all_flowers:\n",
    "        flowers.append((species, str(flowers_path + '/' + species) + '/' + flower))"
   ]
  },
  {
   "cell_type": "code",
   "execution_count": 21,
   "metadata": {},
   "outputs": [
    {
     "data": {
      "text/html": [
       "<div>\n",
       "<style>\n",
       "    .dataframe thead tr:only-child th {\n",
       "        text-align: right;\n",
       "    }\n",
       "\n",
       "    .dataframe thead th {\n",
       "        text-align: left;\n",
       "    }\n",
       "\n",
       "    .dataframe tbody tr th {\n",
       "        vertical-align: top;\n",
       "    }\n",
       "</style>\n",
       "<table border=\"1\" class=\"dataframe\">\n",
       "  <thead>\n",
       "    <tr style=\"text-align: right;\">\n",
       "      <th></th>\n",
       "      <th>category</th>\n",
       "      <th>image</th>\n",
       "    </tr>\n",
       "  </thead>\n",
       "  <tbody>\n",
       "    <tr>\n",
       "      <th>0</th>\n",
       "      <td>daisy</td>\n",
       "      <td>flowers/daisy/100080576_f52e8ee070_n.jpg</td>\n",
       "    </tr>\n",
       "    <tr>\n",
       "      <th>1</th>\n",
       "      <td>daisy</td>\n",
       "      <td>flowers/daisy/10140303196_b88d3d6cec.jpg</td>\n",
       "    </tr>\n",
       "    <tr>\n",
       "      <th>2</th>\n",
       "      <td>daisy</td>\n",
       "      <td>flowers/daisy/10172379554_b296050f82_n.jpg</td>\n",
       "    </tr>\n",
       "    <tr>\n",
       "      <th>3</th>\n",
       "      <td>daisy</td>\n",
       "      <td>flowers/daisy/10172567486_2748826a8b.jpg</td>\n",
       "    </tr>\n",
       "    <tr>\n",
       "      <th>4</th>\n",
       "      <td>daisy</td>\n",
       "      <td>flowers/daisy/10172636503_21bededa75_n.jpg</td>\n",
       "    </tr>\n",
       "  </tbody>\n",
       "</table>\n",
       "</div>"
      ],
      "text/plain": [
       "  category                                       image\n",
       "0    daisy    flowers/daisy/100080576_f52e8ee070_n.jpg\n",
       "1    daisy    flowers/daisy/10140303196_b88d3d6cec.jpg\n",
       "2    daisy  flowers/daisy/10172379554_b296050f82_n.jpg\n",
       "3    daisy    flowers/daisy/10172567486_2748826a8b.jpg\n",
       "4    daisy  flowers/daisy/10172636503_21bededa75_n.jpg"
      ]
     },
     "execution_count": 21,
     "metadata": {},
     "output_type": "execute_result"
    }
   ],
   "source": [
    "# Build a dataframe        \n",
    "flowers = pd.DataFrame(data=flowers, columns=['category', 'image'], index=None)\n",
    "flowers.head()"
   ]
  },
  {
   "cell_type": "code",
   "execution_count": 22,
   "metadata": {},
   "outputs": [
    {
     "name": "stdout",
     "output_type": "stream",
     "text": [
      "Total number of flowers in the dataset:  4326\n",
      "Flowers in each category: \n",
      "dandelion    1055\n",
      "tulip         984\n",
      "rose          784\n",
      "daisy         769\n",
      "sunflower     734\n",
      "Name: category, dtype: int64\n"
     ]
    }
   ],
   "source": [
    "# Let's check how many samples for each category are present\n",
    "print(\"Total number of flowers in the dataset: \", len(flowers))\n",
    "fl_count = flowers['category'].value_counts()\n",
    "print(\"Flowers in each category: \")\n",
    "print(fl_count)"
   ]
  },
  {
   "cell_type": "code",
   "execution_count": 27,
   "metadata": {},
   "outputs": [
    {
     "data": {
      "image/png": "[encoded data removed]",
      "text/plain": [
       "<matplotlib.figure.Figure at 0x2b22a1efa20>"
      ]
     },
     "metadata": {},
     "output_type": "display_data"
    }
   ],
   "source": [
    "# Let's do some visualization too\n",
    "plt.figure(figsize=(12,8))\n",
    "sns.barplot(x=fl_count.index, y=fl_count.values)\n",
    "plt.title(\"Flowers count for each category\", fontsize=16)\n",
    "plt.xlabel(\"Category\", fontsize=14)\n",
    "plt.ylabel(\"Count\", fontsize=14)\n",
    "plt.show()"
   ]
  },
  {
   "cell_type": "code",
   "execution_count": null,
   "metadata": {
    "collapsed": true
   },
   "outputs": [],
   "source": []
  }
 ],
 "metadata": {
  "kernelspec": {
   "display_name": "Python 3",
   "language": "python",
   "name": "python3"
  },
  "language_info": {
   "codemirror_mode": {
    "name": "ipython",
    "version": 3
   },
   "file_extension": ".py",
   "mimetype": "text/x-python",
   "name": "python",
   "nbconvert_exporter": "python",
   "pygments_lexer": "ipython3",
   "version": "3.6.3"
  }
 },
 "nbformat": 4,
 "nbformat_minor": 2
}
