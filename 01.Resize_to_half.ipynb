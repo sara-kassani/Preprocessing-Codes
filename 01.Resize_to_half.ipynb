{
 "cells": [
  {
   "cell_type": "code",
   "execution_count": 3,
   "metadata": {},
   "outputs": [],
   "source": [
    "import os\n",
    "\n",
    "from PIL import Image\n",
    "Image.MAX_IMAGE_PIXELS = None"
   ]
  },
  {
   "cell_type": "code",
   "execution_count": 4,
   "metadata": {},
   "outputs": [],
   "source": [
    "path = \"data/positive/\"\n",
    "resize_ratio = 0.5  # where 0.5 is half size, 2 is double size\n",
    "\n",
    "def resize_aspect_fit():\n",
    "    dirs = os.listdir(path)\n",
    "    for item in dirs:\n",
    "        if item == '.jpg':\n",
    "            continue\n",
    "        if os.path.isfile(path+item):\n",
    "            image = Image.open(path+item)\n",
    "            file_path, extension = os.path.splitext(path+item)\n",
    "\n",
    "            new_image_height = int(image.size[0] / (1/resize_ratio))\n",
    "            new_image_length = int(image.size[1] / (1/resize_ratio))\n",
    "\n",
    "            image = image.resize((new_image_height, new_image_length), Image.ANTIALIAS)\n",
    "            image.save(file_path + extension, 'JPEG', quality=100)\n",
    "\n",
    "\n",
    "resize_aspect_fit()"
   ]
  },
  {
   "cell_type": "code",
   "execution_count": null,
   "metadata": {},
   "outputs": [],
   "source": []
  },
  {
   "cell_type": "code",
   "execution_count": null,
   "metadata": {},
   "outputs": [],
   "source": []
  },
  {
   "cell_type": "code",
   "execution_count": null,
   "metadata": {},
   "outputs": [],
   "source": []
  }
 ],
 "metadata": {
  "kernelspec": {
   "display_name": "Python 3",
   "language": "python",
   "name": "python3"
  },
  "language_info": {
   "codemirror_mode": {
    "name": "ipython",
    "version": 3
   },
   "file_extension": ".py",
   "mimetype": "text/x-python",
   "name": "python",
   "nbconvert_exporter": "python",
   "pygments_lexer": "ipython3",
   "version": "3.7.3"
  }
 },
 "nbformat": 4,
 "nbformat_minor": 2
}
