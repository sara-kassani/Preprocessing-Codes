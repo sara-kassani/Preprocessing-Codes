{
 "cells": [
  {
   "cell_type": "code",
   "execution_count": 1,
   "metadata": {},
   "outputs": [],
   "source": [
    "import warnings\n",
    "warnings.filterwarnings('always')\n",
    "warnings.filterwarnings('ignore')"
   ]
  },
  {
   "cell_type": "code",
   "execution_count": 2,
   "metadata": {},
   "outputs": [],
   "source": [
    "import math\n",
    "import numpy as np\n",
    "\n",
    "import cv2\n",
    "from os import listdir\n",
    "from scipy import ndimage, misc\n",
    "import os, glob\n",
    "import sys\n",
    "import skimage\n",
    "from skimage import feature, data, io\n",
    "\n",
    "from scipy.misc import imread, imsave\n",
    "from PIL import Image\n",
    "import random"
   ]
  },
  {
   "cell_type": "code",
   "execution_count": 3,
   "metadata": {},
   "outputs": [],
   "source": [
    "def get_file_name_dir(rootDir, ext):\n",
    " \n",
    "    # Return file names with certain extension\n",
    "\n",
    "    return glob.glob1(rootDir, \"*.\" + ext)\n",
    "\n",
    "\n",
    "def min_pooling_norm(image, sigmaX=10):\n",
    "#     image = cv2.imread(path)\n",
    "    image = cv2.cvtColor(image, cv2.COLOR_BGR2RGB)\n",
    "    image=cv2.addWeighted (image,4, cv2.GaussianBlur( image , (0,0) , sigmaX) ,-4 ,128)\n",
    "        \n",
    "    return image"
   ]
  },
  {
   "cell_type": "code",
   "execution_count": 11,
   "metadata": {},
   "outputs": [
    {
     "name": "stdout",
     "output_type": "stream",
     "text": [
      "Preprocessing: IDRiD_029.jpg: 1\n",
      "Preprocessing: IDRiD_030.jpg: 2\n",
      "Preprocessing: IDRiD_037.jpg: 3\n",
      "Preprocessing: IDRiD_038.jpg: 4\n",
      "Preprocessing: IDRiD_039.jpg: 5\n",
      "Preprocessing: IDRiD_041.jpg: 6\n",
      "Preprocessing: IDRiD_043.jpg: 7\n",
      "Preprocessing: IDRiD_044.jpg: 8\n",
      "Preprocessing: IDRiD_045.jpg: 9\n",
      "Preprocessing: IDRiD_047.jpg: 10\n",
      "Preprocessing: IDRiD_050.jpg: 11\n",
      "Preprocessing: IDRiD_052.jpg: 12\n",
      "Preprocessing: IDRiD_054.jpg: 13\n",
      "Preprocessing: IDRiD_055.jpg: 14\n",
      "Preprocessing: IDRiD_056.jpg: 15\n",
      "Preprocessing: IDRiD_058.jpg: 16\n",
      "Preprocessing: IDRiD_068.jpg: 17\n",
      "Preprocessing: IDRiD_069.jpg: 18\n",
      "Preprocessing: IDRiD_070.jpg: 19\n",
      "Preprocessing: IDRiD_071.jpg: 20\n",
      "Preprocessing: IDRiD_075.jpg: 21\n",
      "Preprocessing: IDRiD_077.jpg: 22\n",
      "Preprocessing: IDRiD_078.jpg: 23\n",
      "Preprocessing: IDRiD_080.jpg: 24\n",
      "Preprocessing: IDRiD_090.jpg: 25\n",
      "Preprocessing: IDRiD_092.jpg: 26\n",
      "Preprocessing: IDRiD_093.jpg: 27\n",
      "Preprocessing: IDRiD_094.jpg: 28\n",
      "Preprocessing: IDRiD_095.jpg: 29\n",
      "Preprocessing: IDRiD_096.jpg: 30\n",
      "Preprocessing: IDRiD_097.jpg: 31\n",
      "Preprocessing: IDRiD_098.jpg: 32\n",
      "Preprocessing: IDRiD_099.jpg: 33\n",
      "Preprocessing: IDRiD_103.jpg: 34\n"
     ]
    }
   ],
   "source": [
    "input_path = 'data_DR_grading/test/No_DR/'\n",
    "input_extension = 'jpg'\n",
    "inputs_files = sorted(get_file_name_dir(input_path, input_extension))\n",
    "\n",
    "cont = 1\n",
    "for file_name in inputs_files:\n",
    "    print('Preprocessing: ' + file_name + ': ' + str(cont))\n",
    "    cont += 1\n",
    "    img = input_path + file_name\n",
    "\n",
    "#     if file_name.startswith('VF_'):\n",
    "    im_in = cv2.imread(img)\n",
    "    image = min_pooling_norm(im_in)\n",
    "    cv2.imwrite(input_path +file_name , image)"
   ]
  },
  {
   "cell_type": "code",
   "execution_count": null,
   "metadata": {},
   "outputs": [],
   "source": []
  },
  {
   "cell_type": "code",
   "execution_count": null,
   "metadata": {},
   "outputs": [],
   "source": []
  }
 ],
 "metadata": {
  "kernelspec": {
   "display_name": "Python 3",
   "language": "python",
   "name": "python3"
  },
  "language_info": {
   "codemirror_mode": {
    "name": "ipython",
    "version": 3
   },
   "file_extension": ".py",
   "mimetype": "text/x-python",
   "name": "python",
   "nbconvert_exporter": "python",
   "pygments_lexer": "ipython3",
   "version": "3.6.5"
  }
 },
 "nbformat": 4,
 "nbformat_minor": 2
}
