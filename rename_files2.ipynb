{
 "cells": [
  {
   "cell_type": "code",
   "execution_count": 1,
   "metadata": {},
   "outputs": [],
   "source": [
    "#https://stackoverflow.com/questions/225735/batch-renaming-of-files-in-a-directory\n",
    "\n",
    "import os\n",
    "\n",
    "def replace(fpath, old_str, new_str):\n",
    "    for path, subdirs, files in os.walk(fpath):\n",
    "        for name in files:\n",
    "            if(old_str.lower() in name.lower()):\n",
    "                os.rename(os.path.join(path,name), os.path.join(path,\n",
    "                                            name.lower().replace(old_str,new_str)))"
   ]
  },
  {
   "cell_type": "code",
   "execution_count": 3,
   "metadata": {},
   "outputs": [],
   "source": [
    "fpath = \"masks\"\n",
    "old_str= \"annotation_mask\" \n",
    "new_str= \"idx5\"\n",
    "replace(fpath, old_str, new_str)"
   ]
  },
  {
   "cell_type": "code",
   "execution_count": null,
   "metadata": {},
   "outputs": [],
   "source": []
  }
 ],
 "metadata": {
  "kernelspec": {
   "display_name": "Python 3",
   "language": "python",
   "name": "python3"
  },
  "language_info": {
   "codemirror_mode": {
    "name": "ipython",
    "version": 3
   },
   "file_extension": ".py",
   "mimetype": "text/x-python",
   "name": "python",
   "nbconvert_exporter": "python",
   "pygments_lexer": "ipython3",
   "version": "3.6.5"
  }
 },
 "nbformat": 4,
 "nbformat_minor": 2
}
