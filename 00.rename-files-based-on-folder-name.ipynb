{
 "cells": [
  {
   "cell_type": "code",
   "execution_count": 1,
   "metadata": {},
   "outputs": [],
   "source": [
    "import os\n",
    "\n",
    "root_dir = 'data/'\n",
    "\n",
    "for root, subdirs, files in os.walk(root_dir):\n",
    "    for name in files:\n",
    "        curr_dir = os.path.basename(root)\n",
    "        old_name = os.path.join(root_dir, curr_dir, name)\n",
    "        splt_name =  name.split('.')\n",
    "        file_name = '_'.join([ curr_dir, splt_name[0] + '.' + splt_name[1]])\n",
    "        new_name = os.path.join(root_dir, curr_dir, file_name)\n",
    "        os.rename(old_name, new_name)"
   ]
  },
  {
   "cell_type": "code",
   "execution_count": null,
   "metadata": {},
   "outputs": [],
   "source": []
  }
 ],
 "metadata": {
  "kernelspec": {
   "display_name": "Python 3",
   "language": "python",
   "name": "python3"
  },
  "language_info": {
   "codemirror_mode": {
    "name": "ipython",
    "version": 3
   },
   "file_extension": ".py",
   "mimetype": "text/x-python",
   "name": "python",
   "nbconvert_exporter": "python",
   "pygments_lexer": "ipython3",
   "version": "3.6.5"
  }
 },
 "nbformat": 4,
 "nbformat_minor": 2
}
